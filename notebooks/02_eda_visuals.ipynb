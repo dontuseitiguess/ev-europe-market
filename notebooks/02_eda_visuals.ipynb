{
  "cells": [
    {
      "cell_type": "markdown",
      "id": "0d2cb722",
      "metadata": {},
      "source": [
        "# 02_eda_visuals — EDA + figures\n",
        "\n",
        "Ce notebook lit `data/processed/eu_ev_by_country_year.csv`, vérifie l'intégrité, \n",
        "et génère des figures prêtes pour le dossier `dashboard/`.\n"
      ]
    },
    {
      "cell_type": "code",
      "execution_count": null,
      "id": "4f4cf75b",
      "metadata": {},
      "outputs": [],
      "source": [
        "import pandas as pd\n",
        "import numpy as np\n",
        "import matplotlib.pyplot as plt\n",
        "from pathlib import Path\n",
        "\n",
        "proc_path = Path(\"../data/processed/eu_ev_by_country_year.csv\")\n",
        "dash = Path(\"../dashboard\"); dash.mkdir(exist_ok=True)\n",
        "\n",
        "assert proc_path.exists(), f\"Fichier manquant: {proc_path}\"\n",
        "df = pd.read_csv(proc_path)\n",
        "\n",
        "expected_cols = {\"country_code\", \"year\", \"powertrain\", \"registrations\"}\n",
        "missing = expected_cols - set(df.columns)\n",
        "assert not missing, f\"Colonnes manquantes: {missing}. Colonnes trouvées: {df.columns.tolist()}\"\n",
        "\n",
        "df['year'] = pd.to_numeric(df['year'], errors='coerce').astype('Int64')\n",
        "df['registrations'] = pd.to_numeric(df['registrations'], errors='coerce')\n",
        "df = df.dropna(subset=['year', 'registrations'])\n",
        "df['year'] = df['year'].astype(int)\n",
        "\n",
        "display(df.head())\n",
        "print('Lignes totales:', len(df))\n",
        "print('Années:', sorted(df['year'].unique()))\n",
        "print('Powertrains:', sorted(df['powertrain'].unique()))\n",
        "print('Ex pays:', sorted(df['country_code'].unique())[:10])\n"
      ]
    },
    {
      "cell_type": "markdown",
      "id": "a0dae9d6",
      "metadata": {},
      "source": [
        "## Sanity checks rapides\n",
        "- Total par année et motorisation\n",
        "- Détection de séries vides (qui expliqueraient des courbes invisibles)\n"
      ]
    },
    {
      "cell_type": "code",
      "execution_count": null,
      "id": "b22b64ed",
      "metadata": {},
      "outputs": [],
      "source": [
        "pivot_check = (\n",
        "    df.groupby(['year','powertrain'], as_index=False)['registrations'].sum()\n",
        "    .pivot(index='year', columns='powertrain', values='registrations')\n",
        "    .fillna(0)\n",
        ")\n",
        "display(pivot_check)\n",
        "empty_cols = [c for c in pivot_check.columns if (pivot_check[c] == 0).all()]\n",
        "if empty_cols:\n",
        "    print('⚠️ Motorisations sans données sur toutes les années:', empty_cols)\n",
        "else:\n",
        "    print('OK: toutes les motorisations ont au moins une valeur > 0')\n"
      ]
    },
    {
      "cell_type": "markdown",
      "id": "cff3fa60",
      "metadata": {},
      "source": [
        "## Figure A — Top 5 pays EV (BEV+PHEV) en 2023\n"
      ]
    },
    {
      "cell_type": "code",
      "execution_count": null,
      "id": "0c24008c",
      "metadata": {},
      "outputs": [],
      "source": [
        "y = 2023\n",
        "subset = df[(df['year']==y) & (df['powertrain'].isin(['BEV','PHEV']))]\n",
        "agg = subset.groupby('country_code', as_index=False)['registrations'].sum()\n",
        "agg = agg.sort_values('registrations', ascending=False).head(5)\n",
        "\n",
        "if agg.empty:\n",
        "    print('⚠️ Aucune donnée BEV/PHEV pour', y)\n",
        "else:\n",
        "    plt.figure()\n",
        "    plt.bar(agg['country_code'], agg['registrations'])\n",
        "    plt.title(f'Top 5 pays EV (BEV+PHEV) – {y}')\n",
        "    plt.xlabel('Pays')\n",
        "    plt.ylabel('Nouvelles immatriculations')\n",
        "    plt.tight_layout()\n",
        "    plt.savefig(dash / f'top5_countries_ev_{y}.png', dpi=150)\n",
        "    plt.show()\n"
      ]
    },
    {
      "cell_type": "markdown",
      "id": "48952421",
      "metadata": {},
      "source": [
        "## Figure B — Évolution UE 2015–2023 : BEV vs PHEV\n"
      ]
    },
    {
      "cell_type": "code",
      "execution_count": null,
      "id": "079bf2c0",
      "metadata": {},
      "outputs": [],
      "source": [
        "eu_trend = (\n",
        "    df[df['powertrain'].isin(['BEV','PHEV'])]\n",
        "    .groupby(['year','powertrain'], as_index=False)['registrations'].sum()\n",
        ")\n",
        "if eu_trend.empty:\n",
        "    print('⚠️ Pas de données BEV/PHEV pour tracer la tendance UE')\n",
        "else:\n",
        "    plt.figure()\n",
        "    for p in ['BEV','PHEV']:\n",
        "        sub = eu_trend[eu_trend['powertrain']==p]\n",
        "        plt.plot(sub['year'], sub['registrations'], marker='o', label=p)\n",
        "    plt.legend()\n",
        "    plt.title('Évolution UE – BEV vs PHEV (2015–2023)')\n",
        "    plt.xlabel('Année')\n",
        "    plt.ylabel('Nouvelles immatriculations')\n",
        "    plt.tight_layout()\n",
        "    plt.savefig(dash / 'eu_trend_bev_phev.png', dpi=150)\n",
        "    plt.show()\n"
      ]
    },
    {
      "cell_type": "markdown",
      "id": "2f607dfc",
      "metadata": {},
      "source": [
        "## Figure C — Mix motorisations UE en 2023 (camembert)\n"
      ]
    },
    {
      "cell_type": "code",
      "execution_count": null,
      "id": "400296c9",
      "metadata": {},
      "outputs": [],
      "source": [
        "mix_2023 = (\n",
        "    df[df['year']==y]\n",
        "    .groupby('powertrain', as_index=False)['registrations'].sum()\n",
        "    .sort_values('registrations', ascending=False)\n",
        ")\n",
        "if mix_2023.empty:\n",
        "    print('⚠️ Pas de données pour le camembert', y)\n",
        "else:\n",
        "    plt.figure()\n",
        "    plt.pie(mix_2023['registrations'], labels=mix_2023['powertrain'], autopct='%1.1f%%')\n",
        "    plt.title(f'Mix motorisations – UE {y}')\n",
        "    plt.tight_layout()\n",
        "    plt.savefig(dash / f'mix_powertrain_{y}.png', dpi=150)\n",
        "    plt.show()\n"
      ]
    },
    {
      "cell_type": "markdown",
      "id": "1d6dc32c",
      "metadata": {},
      "source": [
        "## Figure D — Tendances BEV par pays (sélection)\n"
      ]
    },
    {
      "cell_type": "code",
      "execution_count": null,
      "id": "56c1ac85",
      "metadata": {},
      "outputs": [],
      "source": [
        "focus = ['DE','FR','NL','UK','NO','SE','IT','ES']\n",
        "bev = df[(df['powertrain']=='BEV') & (df['country_code'].isin(focus))]\n",
        "if bev.empty:\n",
        "    print('⚠️ Pas de données BEV pour les pays focus')\n",
        "else:\n",
        "    plt.figure()\n",
        "    for cc in sorted(bev['country_code'].unique()):\n",
        "        sub = bev[bev['country_code']==cc].sort_values('year')\n",
        "        plt.plot(sub['year'], sub['registrations'], marker='o', label=cc)\n",
        "    plt.legend(title='Pays', ncol=4)\n",
        "    plt.title('Tendances BEV par pays (sélection)')\n",
        "    plt.xlabel('Année')\n",
        "    plt.ylabel('Nouvelles immatriculations')\n",
        "    plt.tight_layout()\n",
        "    plt.savefig(dash / 'bev_trends_focus.png', dpi=150)\n",
        "    plt.show()\n"
      ]
    }
  ],
  "metadata": {
    "kernelspec": {
      "display_name": "Python 3",
      "language": "python",
      "name": "python3"
    },
    "language_info": {
      "name": "python",
      "version": "3.x"
    }
  },
  "nbformat": 4,
  "nbformat_minor": 5
}
